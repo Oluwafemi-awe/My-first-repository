{
 "cells": [
  {
   "cell_type": "markdown",
   "metadata": {},
   "source": [
    "# This is level 1 heading\n",
    "## This is level 2 heading\n",
    "### this is level 3\n",
    "#### this is level 4\n",
    "##### This is level 5\n",
    "###### this is level 6"
   ]
  },
  {
   "cell_type": "markdown",
   "metadata": {},
   "source": [
    "##bold text can be added by using two asterisks or underscores before and after each word, phrase or a sentence"
   ]
  },
  {
   "cell_type": "markdown",
   "metadata": {},
   "source": [
    "**bold text using asterisks**"
   ]
  },
  {
   "cell_type": "markdown",
   "metadata": {},
   "source": [
    "__bold text using underscores__"
   ]
  },
  {
   "cell_type": "markdown",
   "metadata": {},
   "source": [
    "**Now, I think Jupyter is good for coding**"
   ]
  },
  {
   "cell_type": "markdown",
   "metadata": {},
   "source": [
    "#italics can be displayed by using one asterisk or underscore before and after a word, phrase or sentence"
   ]
  },
  {
   "cell_type": "markdown",
   "metadata": {},
   "source": [
    "*italic using single asterisk*"
   ]
  },
  {
   "cell_type": "markdown",
   "metadata": {},
   "source": [
    "***bold and italic using three(2 for bold and 1 for italic) asterisks***"
   ]
  },
  {
   "cell_type": "markdown",
   "metadata": {},
   "source": [
    "_italic using one underscore_"
   ]
  },
  {
   "cell_type": "markdown",
   "metadata": {},
   "source": [
    "***bold and italic using three underscores (2for bold and 1 for italic)***"
   ]
  },
  {
   "cell_type": "markdown",
   "metadata": {},
   "source": [
    "###### to create a hyperlink or images, [name of the link](link url) however, if it has no name, you use angle bracket <> sample- <https://skills.network/>"
   ]
  },
  {
   "cell_type": "markdown",
   "metadata": {},
   "source": [
    "[Skills Network](https://skills.network/)"
   ]
  },
  {
   "cell_type": "markdown",
   "metadata": {},
   "source": [
    "######## \"Images can be rendered using:      name of image: ![alt text](PATH) \" sample below"
   ]
  },
  {
   "cell_type": "markdown",
   "metadata": {},
   "source": [
    "LOGO: ![skills network logo](https://cf-courses-data.s3.us.cloud-object-storage.appdomain.cloud/assets/logos/SN_web_lightmode.png)"
   ]
  },
  {
   "cell_type": "markdown",
   "metadata": {},
   "source": [
    "Microbes: ![sulfur bacteria](\"C:\\Users\\busi4\\OneDrive\\Pictures\\Sulfur1-pickering.jpg)"
   ]
  },
  {
   "cell_type": "markdown",
   "metadata": {},
   "source": [
    "#to create table using markdown, use hypens(---) for colunms header, pipes(|) to separate each column and text on new line to separate each row"
   ]
  },
  {
   "cell_type": "markdown",
   "metadata": {},
   "source": [
    "|Country Names|Capital|\n",
    "|-------------|--------|\n",
    "|Nigeria|Abuja|\n",
    "|England|London|\n",
    "|USA|Washington DC|\n",
    "|Australia|Canberra|\n",
    "|Scotland|Edinburgh|\n"
   ]
  },
  {
   "cell_type": "markdown",
   "metadata": {},
   "source": [
    "|Names|Scores|Gender|\n",
    "|-----|------|-------|\n",
    "|Oluwafemi|78|M|\n",
    "|Oluwaseun|58|F|\n",
    "|Sophia|74|F|\n",
    "|Tamika|65|F|\n",
    "|Pelumi|89|M|"
   ]
  },
  {
   "cell_type": "markdown",
   "metadata": {},
   "source": [
    "··* Three attributes known.\n",
    "1. responsible\n",
    "2. cool\n",
    "3. Hardworking\n",
    "   \n",
    "···However, he's known to be a womanizer.··"
   ]
  },
  {
   "cell_type": "markdown",
   "metadata": {},
   "source": [
    "Image(filename=\"C:/Users/busi4/OneDrive/Pictures/actives with polymer cartoon.png\")"
   ]
  },
  {
   "cell_type": "code",
   "execution_count": 5,
   "metadata": {},
   "outputs": [
    {
     "ename": "NameError",
     "evalue": "name 'Image' is not defined",
     "output_type": "error",
     "traceback": [
      "\u001b[1;31m---------------------------------------------------------------------------\u001b[0m",
      "\u001b[1;31mNameError\u001b[0m                                 Traceback (most recent call last)",
      "Cell \u001b[1;32mIn[5], line 3\u001b[0m\n\u001b[0;32m      1\u001b[0m \u001b[38;5;66;03m# Fix the path by either:\u001b[39;00m\n\u001b[0;32m      2\u001b[0m \u001b[38;5;66;03m# 1. Using raw string (r prefix)\u001b[39;00m\n\u001b[1;32m----> 3\u001b[0m Image \u001b[38;5;241m=\u001b[39m Image(filename\u001b[38;5;241m=\u001b[39m\u001b[38;5;124mr\u001b[39m\u001b[38;5;124m\"\u001b[39m\u001b[38;5;124mC:\u001b[39m\u001b[38;5;124m\\\u001b[39m\u001b[38;5;124mUsers\u001b[39m\u001b[38;5;124m\\\u001b[39m\u001b[38;5;124mbusi4\u001b[39m\u001b[38;5;124m\\\u001b[39m\u001b[38;5;124mOneDrive\u001b[39m\u001b[38;5;124m\\\u001b[39m\u001b[38;5;124mPictures\u001b[39m\u001b[38;5;124m\\\u001b[39m\u001b[38;5;124mactives with polymer cartoon.png\u001b[39m\u001b[38;5;124m\"\u001b[39m)\n\u001b[0;32m      4\u001b[0m display(Image)\n",
      "\u001b[1;31mNameError\u001b[0m: name 'Image' is not defined"
     ]
    }
   ],
   "source": [
    "# Fix the path by either:\n",
    "# 1. Using raw string (r prefix)\n",
    "Image = Image(filename=r\"C:\\Users\\busi4\\OneDrive\\Pictures\\actives with polymer cartoon.png\")\n",
    "display(Image)\n",
    "# OR\n",
    "# 2. Using forward slashes\n",
    "# Image(filename=\"C:/Users/busi4/OneDrive/Pictures/actives with polymer cartoon.png\")\n",
    "\n",
    "# OR\n",
    "# 3. Using double backslashes\n",
    "# Image(filename=\"C:\\\\Users\\\\busi4\\\\OneDrive\\\\Pictures\\\\actives with polymer cartoon.png\")"
   ]
  },
  {
   "cell_type": "markdown",
   "metadata": {},
   "source": [
    "Photo: ![Fredooo](\"C:\\Users\\busi4\\Downloads\\d30289bd-335e-4324-8cc9-ba73227321c1.png\")\n",
    "### Birthday Greetings\n",
    "**Enjoy the endless _love_ and _blessings_**, __Happy Birthday!__\n",
    " ![Emoji](cheers,love)\n",
    "_Single and Searching for Gorgeous British **_Straight_** Woman/Women please._  ![Emoji](energy,laughs)\n",
    "             ![Emoji](cake,cheers,love,drum,party,horse)"
   ]
  },
  {
   "cell_type": "code",
   "execution_count": null,
   "metadata": {},
   "outputs": [],
   "source": [
    "You’ve got a few smooth ways to load an image from your computer into a Jupyter Notebook, depending on whether you want to display it or process it. Here’s the rundown:\n",
    "\n",
    "🖼️ 1. Display an Image (for viewing only)\n",
    "Use IPython.display.Image:\n",
    "from IPython.display import Image\n",
    "Image(filename='path/to/your/image.jpg')\n",
    "\n",
    "\n",
    "Make sure the image is in the same directory as your notebook, or provide the full path.\n",
    "\n",
    "🧪 2. Load an Image for Processing (e.g., with OpenCV or PIL)\n",
    "Using PIL (Pillow):\n",
    "from PIL import Image\n",
    "img = Image.open('path/to/your/image.jpg')\n",
    "img.show()\n",
    "\n",
    "\n",
    "Using OpenCV:\n",
    "import cv2\n",
    "img = cv2.imread('path/to/your/image.jpg')\n",
    "cv2.imshow('Image', img)\n",
    "cv2.waitKey(0)\n",
    "cv2.destroyAllWindows()\n",
    "\n",
    "\n",
    "Note: cv2.imshow() may not work inside Jupyter. Instead, use:\n",
    "\n",
    "from matplotlib import pyplot as plt\n",
    "plt.imshow(cv2.cvtColor(img, cv2.COLOR_BGR2RGB))\n",
    "plt.axis('off')\n",
    "plt.show()\n",
    "\n",
    "\n",
    "\n",
    "✨ 3. Drag-and-Drop into Markdown Cell\n",
    "If you just want to embed an image visually:\n",
    "- Convert a cell to Markdown (M key in command mode).\n",
    "- Drag the image file into the cell.\n",
    "- It will auto-generate something like:\n",
    "![alt text](attachment:image.png)\n",
    "\n",
    "\n",
    "\n",
    "Want help building an image viewer or annotator inside your notebook? I can help you whip one up in no time. Just say the word! 🧑‍🔬📸\n"
   ]
  }
 ],
 "metadata": {
  "kernelspec": {
   "display_name": "Python [conda env:base] *",
   "language": "python",
   "name": "conda-base-py"
  },
  "language_info": {
   "codemirror_mode": {
    "name": "ipython",
    "version": 3
   },
   "file_extension": ".py",
   "mimetype": "text/x-python",
   "name": "python",
   "nbconvert_exporter": "python",
   "pygments_lexer": "ipython3",
   "version": "3.12.7"
  }
 },
 "nbformat": 4,
 "nbformat_minor": 4
}
