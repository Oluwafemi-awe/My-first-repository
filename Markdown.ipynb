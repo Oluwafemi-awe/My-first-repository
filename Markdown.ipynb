{
 "cells": [
  {
   "cell_type": "markdown",
   "metadata": {},
   "source": [
    "# This is level 1 heading\n",
    "## This is level 2 heading\n",
    "### this is level 3\n",
    "#### this is level 4\n",
    "##### This is level 5\n",
    "###### this is level 6"
   ]
  },
  {
   "cell_type": "markdown",
   "metadata": {},
   "source": [
    "##bold text can be added by using two asterisks or underscores before and after each word, phrase or a sentence"
   ]
  },
  {
   "cell_type": "markdown",
   "metadata": {},
   "source": [
    "**bold text using asterisks**"
   ]
  },
  {
   "cell_type": "markdown",
   "metadata": {},
   "source": [
    "__bold text using underscores__"
   ]
  },
  {
   "cell_type": "markdown",
   "metadata": {},
   "source": [
    "**Now, I think Jupyter is good for coding**"
   ]
  },
  {
   "cell_type": "markdown",
   "metadata": {},
   "source": [
    "#italics can be displayed by using one asterisk or underscore before and after a word, phrase or sentence"
   ]
  },
  {
   "cell_type": "markdown",
   "metadata": {},
   "source": [
    "*italic using single asterisk*"
   ]
  },
  {
   "cell_type": "markdown",
   "metadata": {},
   "source": [
    "***bold and italic using three(2 for bold and 1 for italic) asterisks***"
   ]
  },
  {
   "cell_type": "markdown",
   "metadata": {},
   "source": [
    "_italic using one underscore_"
   ]
  },
  {
   "cell_type": "markdown",
   "metadata": {},
   "source": [
    "***bold and italic using three underscores (2for bold and 1 for italic)***"
   ]
  },
  {
   "cell_type": "markdown",
   "metadata": {},
   "source": [
    "###### to create a hyperlink or images, [name of the link](link url) however, if it has no name, you use angle bracket <> sample- <https://skills.network/>"
   ]
  },
  {
   "cell_type": "markdown",
   "metadata": {},
   "source": [
    "[Skills Network](https://skills.network/)"
   ]
  },
  {
   "cell_type": "markdown",
   "metadata": {},
   "source": [
    "######## \"Images can be rendered using:      name of image: ![alt text](PATH) \" sample below"
   ]
  },
  {
   "cell_type": "markdown",
   "metadata": {},
   "source": [
    "LOGO: ![skills network logo](https://cf-courses-data.s3.us.cloud-object-storage.appdomain.cloud/assets/logos/SN_web_lightmode.png)"
   ]
  },
  {
   "cell_type": "markdown",
   "metadata": {},
   "source": [
    "Microbes: ![sulfur bacteria](\"C:\\Users\\busi4\\OneDrive\\Pictures\\Sulfur1-pickering.jpg)"
   ]
  },
  {
   "cell_type": "markdown",
   "metadata": {},
   "source": [
    "#to create table using markdown, use hypens(---) for colunms header, pipes(|) to separate each column and text on new line to separate each row"
   ]
  },
  {
   "cell_type": "markdown",
   "metadata": {},
   "source": [
    "|Country Names|Capital|\n",
    "|-------------|--------|\n",
    "|Nigeria|Abuja|\n",
    "|England|London|\n",
    "|USA|Washington DC|\n",
    "|Australia|Canberra|\n",
    "|Scotland|Edinburgh|\n"
   ]
  },
  {
   "cell_type": "markdown",
   "metadata": {},
   "source": [
    "|Names|Scores|Gender|\n",
    "|-----|------|-------|\n",
    "|Oluwafemi|78|M|\n",
    "|Oluwaseun|58|F|\n",
    "|Sophia|74|F|\n",
    "|Tamika|65|F|\n",
    "|Pelumi|89|M|"
   ]
  },
  {
   "cell_type": "markdown",
   "metadata": {},
   "source": [
    "··* Three attributes known.\n",
    "1. responsible\n",
    "2. cool\n",
    "3. Hardworking\n",
    "   \n",
    "···However, he's known to be a womanizer.··"
   ]
  },
  {
   "cell_type": "markdown",
   "metadata": {
    "jp-MarkdownHeadingCollapsed": true
   },
   "source": [
    "Photo: ![Fredooo](\"C:\\Users\\busi4\\Downloads\\d30289bd-335e-4324-8cc9-ba73227321c1.png\")\n",
    "### Birthday Greetings\n",
    "______________________\n",
    "**Enjoy the endless _love_ and _blessings_**, __HAPPY BIRTHDAY!__\n",
    " ![Emoji](cheers,love)\n",
    "* _Single and Searching for Gorgeous British **_Straight_** (__and wants children__) Woman Please._\n",
    "   ![Emoji](energy,laughs)\n",
    "             ![Emoji](cake,star,cheers,love,drum,party,horse)"
   ]
  },
  {
   "cell_type": "markdown",
   "metadata": {},
   "source": [
    "# Import the Image class from IPython.display\n",
    "from IPython.display import Image\n",
    "\n",
    "# Now use the Image function to display the image\n",
    "Image: ![filename]('Downloads/d30289bd-335e-4324-8cc9-ba73227321c1.JPG')"
   ]
  },
  {
   "cell_type": "markdown",
   "metadata": {},
   "source": [
    "Here is a footnote[^1].\n",
    " footnote can have multiple lines[^2].\n",
    "\n",
    "words can be used[^note].\n",
    "\n",
    "[^1]:  contain my reference\n",
    "  [^2]:  mouse\n",
    "mutilpe lines[^note]"
   ]
  },
  {
   "cell_type": "markdown",
   "metadata": {},
   "source": [
    "# This is not Python code but Markdown syntax\n",
    "# To use footnotes, you need to put this in a Markdown cell, not a code cell\n",
    "# In Jupyter Notebook, click on \"Cell\" in the menu, then \"Cell Type\", then \"Markdown\"\n",
    "# Then paste your footnote content:\n",
    " Here is a footnote[^1].\n",
    "footnote can have multiple lines[^2].\n",
    " \n",
    " words can be used[^note].\n",
    " \n",
    " [^1]: contain my reference\n",
    " [^2]: mouse\n",
    " [^note]: mutilpe lines"
   ]
  },
  {
   "cell_type": "markdown",
   "metadata": {},
   "source": [
    "Here is a simple footnote[^1].\n",
    "\n",
    "A footnote can also have multiple lines[^2].  \n",
    "\n",
    "You can also use words, to fit your writing style more closely[^note].\n",
    "\n",
    "[^1]: My reference.\n",
    "[^2]: Every new line should be prefixed with 2 spaces.  \n",
    "  This allows you to have a footnote with multiple lines.\n",
    "[^note]:\n",
    "    Named footnotes will still render with numbers instead of the text but allow easier identification and linking.  \n",
    "    This footnote also has been made with a different syntax using 4 spaces for new lines."
   ]
  },
  {
   "cell_type": "markdown",
   "metadata": {},
   "source": [
    "[^1]. "
   ]
  },
  {
   "cell_type": "code",
   "execution_count": null,
   "metadata": {},
   "outputs": [],
   "source": []
  }
 ],
 "metadata": {
  "kernelspec": {
   "display_name": "Python [conda env:base] *",
   "language": "python",
   "name": "conda-base-py"
  },
  "language_info": {
   "codemirror_mode": {
    "name": "ipython",
    "version": 3
   },
   "file_extension": ".py",
   "mimetype": "text/x-python",
   "name": "python",
   "nbconvert_exporter": "python",
   "pygments_lexer": "ipython3",
   "version": "3.12.7"
  }
 },
 "nbformat": 4,
 "nbformat_minor": 4
}
